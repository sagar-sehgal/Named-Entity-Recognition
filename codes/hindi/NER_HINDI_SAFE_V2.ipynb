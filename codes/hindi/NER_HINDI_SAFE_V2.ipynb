{
 "cells": [
  {
   "cell_type": "code",
   "execution_count": 2,
   "metadata": {},
   "outputs": [],
   "source": [
    "import keras \n",
    "from keras.layers import LSTM,Dense,Conv1D,MaxPooling1D\n",
    "from keras.models import Sequential,Model\n",
    "from gensim.models import Word2Vec\n",
    "from keras.layers import Bidirectional,TimeDistributed\n",
    "import numpy as np\n",
    "import codecs\n",
    "import regex\n",
    "import  matplotlib.pyplot as plt"
   ]
  },
  {
   "cell_type": "code",
   "execution_count": null,
   "metadata": {},
   "outputs": [],
   "source": []
  },
  {
   "cell_type": "code",
   "execution_count": 2,
   "metadata": {},
   "outputs": [],
   "source": [
    "data_div=1\n",
    "sent=[]\n",
    "tags=[]\n",
    "with codecs.open(\"v1_train.hi\",\"r\",encoding=\"utf-8\") as f:\n",
    "    l1=[]\n",
    "    l2=[]\n",
    "    for i in f:\n",
    "        x=i.split()\n",
    "        if(x[0]==\"newline\"):\n",
    "            sent.append(l1)\n",
    "            tags.append(l2)\n",
    "            l1=[]\n",
    "            l2=[]\n",
    "        else:\n",
    "            l1.append(x[0])\n",
    "            l2.append(x[1])"
   ]
  },
  {
   "cell_type": "code",
   "execution_count": 3,
   "metadata": {},
   "outputs": [
    {
     "name": "stdout",
     "output_type": "stream",
     "text": [
      "76537\n",
      "330826\n",
      "{'organization': 12254, 'event': 2932, 'location': 166547, 'other': 1141207, 'occupation': 15732, 'number': 37754, 'name': 88887, 'things': 4048, 'datenum': 2672}\n",
      "\n"
     ]
    }
   ],
   "source": [
    "print(len(sent))\n",
    "tag_count=0\n",
    "for i in tags:\n",
    "    for j in i:\n",
    "        if(j!=\"other\"):\n",
    "            tag_count+=1\n",
    "print(tag_count)\n",
    "tag_map={'datenum': 0,\n",
    " 'event': 0,\n",
    " 'location': 0,\n",
    " 'name': 0,\n",
    " 'number': 0,\n",
    " 'occupation': 0,\n",
    " 'organization': 0,\n",
    " 'other': 0,\n",
    " 'things': 0}\n",
    "for i in tags:\n",
    "    for j in i:\n",
    "        tag_map[j]+=1\n",
    "print(tag_map)\n",
    "print()"
   ]
  },
  {
   "cell_type": "code",
   "execution_count": 4,
   "metadata": {},
   "outputs": [
    {
     "name": "stderr",
     "output_type": "stream",
     "text": [
      "/home/sagar/tensorflow/lib/python3.5/importlib/_bootstrap.py:222: RuntimeWarning: numpy.dtype size changed, may indicate binary incompatibility. Expected 96, got 88\n",
      "  return f(*args, **kwds)\n",
      "/home/sagar/tensorflow/lib/python3.5/importlib/_bootstrap.py:222: RuntimeWarning: numpy.dtype size changed, may indicate binary incompatibility. Expected 96, got 88\n",
      "  return f(*args, **kwds)\n"
     ]
    },
    {
     "name": "stdout",
     "output_type": "stream",
     "text": [
      "68883\n",
      "68883\n",
      "7654\n",
      "7654\n"
     ]
    }
   ],
   "source": [
    "from sklearn.model_selection import train_test_split\n",
    "sent,pre_x_test,tags,pre_y_test=train_test_split(sent,tags,test_size=0.1,random_state=1)\n",
    "print(len(sent))\n",
    "print(len(tags))\n",
    "print(len(pre_x_test))\n",
    "print(len(pre_y_test))"
   ]
  },
  {
   "cell_type": "code",
   "execution_count": 5,
   "metadata": {},
   "outputs": [
    {
     "name": "stdout",
     "output_type": "stream",
     "text": [
      "0 : 4616\n",
      "1 : 7371\n",
      "2 : 10244\n",
      "3 : 9461\n",
      "4 : 8464\n",
      "5 : 6793\n",
      "6 : 5140\n",
      "7 : 7320\n",
      "8 : 4155\n",
      "9 : 2456\n",
      "10 : 952\n",
      "11 : 654\n",
      "12 : 430\n",
      "13 : 267\n",
      "14 : 156\n",
      "15 : 103\n",
      "16 : 75\n",
      "17 : 57\n",
      "18 : 41\n",
      "19 : 25\n",
      "20 : 19\n",
      "21 : 14\n",
      "22 : 8\n",
      "23 : 11\n",
      "24 : 2\n",
      "25 : 3\n",
      "26 : 3\n",
      "27 : 2\n",
      "28 : 3\n",
      "29 : 1\n",
      "30 : 4\n",
      "32 : 2\n",
      "33 : 1\n",
      "34 : 2\n",
      "35 : 1\n",
      "36 : 1\n",
      "37 : 4\n",
      "38 : 3\n",
      "39 : 1\n",
      "41 : 1\n",
      "42 : 2\n",
      "45 : 2\n",
      "47 : 2\n",
      "48 : 1\n",
      "53 : 1\n",
      "62 : 1\n",
      "67 : 1\n",
      "71 : 1\n",
      "95 : 1\n",
      "100 : 1\n",
      "161 : 1\n",
      "175 : 1\n",
      "192 : 1\n",
      "196 : 1\n"
     ]
    },
    {
     "data": {
      "image/png": "[encoded data removed]",
      "text/plain": [
       "<Figure size 432x288 with 1 Axes>"
      ]
     },
     "metadata": {},
     "output_type": "display_data"
    }
   ],
   "source": [
    "def get_data_distribution(sent,tags):\n",
    "    cnt_dict={}\n",
    "    for i in tags:\n",
    "        cnt=0\n",
    "        for j in i:\n",
    "            if(j!=\"other\"):\n",
    "                cnt+=1\n",
    "        if(cnt in cnt_dict):\n",
    "            cnt_dict[cnt]+=1\n",
    "        else:\n",
    "            cnt_dict[cnt]=1\n",
    "    cnt_list=list(cnt_dict.keys())\n",
    "    cnt_list.sort()\n",
    "    l1=[]\n",
    "    l2=[]\n",
    "    for i in cnt_list:\n",
    "        print(i,\":\",cnt_dict[i])\n",
    "        l1.append(i)\n",
    "        l2.append(cnt_dict[i])\n",
    "    plt.plot(l1,l2)\n",
    "    plt.xlabel(\"no. of non-other tags in the sentence\")\n",
    "    plt.ylabel(\"no. of sentences\")\n",
    "    plt.show()\n",
    "get_data_distribution(sent,tags)"
   ]
  },
  {
   "cell_type": "code",
   "execution_count": 6,
   "metadata": {},
   "outputs": [
    {
     "name": "stdout",
     "output_type": "stream",
     "text": [
      "68883\n",
      "68883\n"
     ]
    }
   ],
   "source": [
    "def filter_data(sent,tags,exclude_list):\n",
    "    sent_filter=[]\n",
    "    tags_filter=[]\n",
    "    for i in range(len(tags)):\n",
    "    #     print(tags[i])\n",
    "        cnt=0\n",
    "        for j in tags[i]:\n",
    "            if(j!=\"other\"):\n",
    "                cnt+=1\n",
    "        if(cnt in exclude_list):\n",
    "            continue\n",
    "        if(cnt>=0):\n",
    "            sent_filter.append(sent[i])\n",
    "            tags_filter.append(tags[i])\n",
    "    return sent_filter,tags_filter\n",
    "sent_filter,tags_filter=filter_data(sent,tags,[])\n",
    "print(len(sent_filter))\n",
    "print(len(tags_filter))"
   ]
  },
  {
   "cell_type": "code",
   "execution_count": 7,
   "metadata": {},
   "outputs": [
    {
     "name": "stdout",
     "output_type": "stream",
     "text": [
      "initial_len= 68883\n",
      "new_len= 68883\n"
     ]
    }
   ],
   "source": [
    "sent=sent_filter\n",
    "tags=tags_filter\n",
    "def divide_data_pactise(sent,tags,data_div):\n",
    "    print(\"initial_len=\",len(sent))\n",
    "    sent=sent[:len(sent)//data_div]\n",
    "    tags=tags[:len(tags)//data_div]\n",
    "    return sent,tags\n",
    "sent,tags=divide_data_pactise(sent,tags,data_div)\n",
    "print(\"new_len=\",len(sent))"
   ]
  },
  {
   "cell_type": "code",
   "execution_count": 8,
   "metadata": {},
   "outputs": [
    {
     "name": "stdout",
     "output_type": "stream",
     "text": [
      "['लेकिन', 'आधुनिकीकरण', 'के', 'बावजूद', 'में', ',', 'कारखाने', 'लाभ', 'नहीं', 'उसके', 'बाद', 'मुख्य', 'रूप', 'से', 'कंपनी', ',', 'उच्च', 'उत्पादन', 'लागत', 'और', 'अपेक्षाकृत', 'कम', 'उर्वरकों', 'की', 'बिक्री', 'मूल्य', ',', 'बढ़ते', 'मजदूरी', 'बिल', ',', 'उच्च', 'रखरखाव', 'खर्च', 'का', 'अवैज्ञानिक', 'विभाजन', 'की', 'वजह', 'से', 'मूल्यांकन', 'किया', 'प्राप्य', 'क्षमता', 'के', 'कारण', 'अधिक', 'के', 'बाद', 'भी', 'बनाए', 'रखने', 'के', 'सकता', 'है', 'पौधों', ',', 'कम', 'विनिर्देशों', 'गुणवत्ता', 'बड़े', 'बुनियादी', 'ढांचे', 'की', 'लागत', 'के', 'कच्चे', 'माल', 'की', 'उपलब्धता', 'और', 'अंततः', 'भारत', 'सरकार', 'की', 'उम्र', 'बढ़ने', 'के', 'लिए', 'सितंबर', '2002', 'में', 'कारखाने', 'के', 'आपरेशन', 'के', 'बंद', 'का', 'फैसला', 'किया', '.']\n",
      "['बरियाखुर्द', 'फतुहा', ',', 'पटना', ',', 'बिहार', 'स्थित', 'एक', 'गांव', 'है', '.']\n",
      "['अजीत', 'प्रसाद', 'जैन', 'का', '३१', 'दिसम्बर', '१९७७', 'को', '७५', 'वर्ष', 'की', 'आयु', 'में', 'निधन', 'हुआ', '.']\n",
      "['दौलतपुर', 'अररिया', ',', 'में', 'भारत', 'के', 'बिहार', 'राज्य', 'के', 'अन्तर्गत', 'पुर्णिया', 'मण्डल', 'के', 'अररिया', 'जिले', 'का', 'एक', 'गांव', 'है', '.']\n",
      "['पिपलगांव', ',', 'भिकियासैण', 'तहसील', 'में', 'भारत', 'के', 'उत्तराखण्ड', 'राज्य', 'के', 'अन्तर्गत', 'कुमाऊं', 'मण्डल', 'के', 'अल्मोड़ा', 'जिले', 'का', 'एक', 'गांव', 'है', '.']\n",
      "['निर्मल', 'बीघा', 'में', 'भारत', 'के', 'बिहार', 'राज्य', 'के', 'अन्तर्गत', 'मगध', 'मण्डल', 'के', 'औरंगाबाद', 'जिले', 'का', 'एक', 'गांव', 'है', '.']\n",
      "['बेगूसराय', 'बेगूसराय', ',', 'बिहार', 'का', 'एक', 'प्रखण्ड', 'है', '.']\n",
      "['कटंगजोरी', ',', 'सांरगढ', 'मण्डल', 'में', 'भारत', 'के', 'छत्तीसगढ़', 'राज्य', 'के', 'अन्तर्गत', 'रायगढ़', 'जिले', 'का', 'एक', 'गांव', 'है', '.']\n",
      "['दुम्का', 'बंगर', 'बच्ची', 'धर्मा', ',', 'लालकुआं', 'तहसील', 'में', 'भारत', 'के', 'उत्तराखण्ड', 'राज्य', 'के', 'अन्तर्गत', 'कुमाऊं', 'मण्डल', 'के', 'नैनीताल', 'जिले', 'का', 'एक', 'गांव', 'है', '.']\n",
      "['इसे', 'बिएन', 'दे', 'इंतेरेस', 'कल्चरल', 'की', 'श्रेणी', 'में', '1981', 'में', 'शामिल', 'किया', 'गया', 'था', '.']\n"
     ]
    }
   ],
   "source": [
    "for i in sent[:10]:\n",
    "    print(i)"
   ]
  },
  {
   "cell_type": "code",
   "execution_count": 9,
   "metadata": {},
   "outputs": [
    {
     "name": "stdout",
     "output_type": "stream",
     "text": [
      "max_sent_len 609\n",
      "avg_sent_len 19.251992509037063\n",
      "max_sent_len_fit 38\n"
     ]
    }
   ],
   "source": [
    "max_sent_len=-1\n",
    "for i in sent:\n",
    "    if(len(i)>max_sent_len):\n",
    "        max_sent_len=len(i)\n",
    "print(\"max_sent_len\",max_sent_len)\n",
    "avg_sent_len=0\n",
    "for i in sent:\n",
    "    avg_sent_len+=len(i)\n",
    "avg_sent_len=avg_sent_len/len(sent)\n",
    "print(\"avg_sent_len\",avg_sent_len)\n",
    "max_len=int(2*(avg_sent_len))\n",
    "print(\"max_sent_len_fit\",max_len)"
   ]
  },
  {
   "cell_type": "code",
   "execution_count": 10,
   "metadata": {},
   "outputs": [],
   "source": [
    "from keras.preprocessing.text import Tokenizer\n",
    "from keras.preprocessing.sequence import pad_sequences\n",
    "from keras.preprocessing.sequence import pad_sequences"
   ]
  },
  {
   "cell_type": "code",
   "execution_count": 11,
   "metadata": {},
   "outputs": [],
   "source": [
    "# regex.findall(r'\\X', sent[0][0])\n",
    "def separate_into_char(sent):\n",
    "    char=[]\n",
    "    for i in sent:\n",
    "        for j in i:\n",
    "            l=regex.findall(r'\\X',j)\n",
    "            char.append(l)\n",
    "    return char\n",
    "char=separate_into_char(sent)"
   ]
  },
  {
   "cell_type": "code",
   "execution_count": 12,
   "metadata": {},
   "outputs": [
    {
     "name": "stdout",
     "output_type": "stream",
     "text": [
      "['ले', 'कि', 'न']\n",
      "['आ', 'धु', 'नि', 'की', 'क', 'र', 'ण']\n",
      "['के']\n",
      "['बा', 'व', 'जू', 'द']\n",
      "['में']\n",
      "[',']\n",
      "['का', 'र', 'खा', 'ने']\n",
      "['ला', 'भ']\n",
      "['न', 'हीं']\n",
      "['उ', 'स', 'के']\n"
     ]
    }
   ],
   "source": [
    "\n",
    "for i in char[:10]:\n",
    "    print(i)\n"
   ]
  },
  {
   "cell_type": "code",
   "execution_count": 13,
   "metadata": {},
   "outputs": [],
   "source": [
    "char_embedding_size=50\n",
    "word_min_count=1\n",
    "c2v=Word2Vec(char,size=char_embedding_size,min_count=word_min_count)\n",
    "# print(c2v.wv[\"ल\"])\n",
    "# c2v.wv.most_similar(positive=\"ा\")"
   ]
  },
  {
   "cell_type": "code",
   "execution_count": 14,
   "metadata": {},
   "outputs": [
    {
     "data": {
      "text/plain": [
       "2558"
      ]
     },
     "execution_count": 14,
     "metadata": {},
     "output_type": "execute_result"
    }
   ],
   "source": [
    "# c2v.wv.most_similar(positive=\"क\")\n",
    "len(c2v.wv.vocab)"
   ]
  },
  {
   "cell_type": "code",
   "execution_count": 15,
   "metadata": {},
   "outputs": [
    {
     "name": "stdout",
     "output_type": "stream",
     "text": [
      "2558\n",
      "1918\n"
     ]
    }
   ],
   "source": [
    "tokenizer_char=Tokenizer()\n",
    "tokenizer_char.fit_on_texts(char)\n",
    "char_index=tokenizer_char.word_index\n",
    "print(len(char_index))\n",
    "num_char=(len(char_index)*3)//4\n",
    "print(num_char)"
   ]
  },
  {
   "cell_type": "code",
   "execution_count": 16,
   "metadata": {},
   "outputs": [
    {
     "name": "stdout",
     "output_type": "stream",
     "text": [
      "1919\n",
      "<UNK_CHAR>\n"
     ]
    }
   ],
   "source": [
    "def add_unk_char(char_index,num_char):\n",
    "    ref={}\n",
    "    for i,j in char_index.items():\n",
    "        if(j<=num_char):\n",
    "            ref[i]=j\n",
    "    ref[\"<UNK_CHAR>\"]=num_char+1\n",
    "    char_index=ref\n",
    "    char_index_rev={}\n",
    "    for (i,j) in char_index.items():\n",
    "        char_index_rev[j]=i\n",
    "    print(char_index[\"<UNK_CHAR>\"])\n",
    "    print(char_index_rev[char_index[\"<UNK_CHAR>\"]])\n",
    "    return char_index,char_index_rev\n",
    "char_index,char_index_rev=add_unk_char(char_index,num_char)"
   ]
  },
  {
   "cell_type": "code",
   "execution_count": 17,
   "metadata": {},
   "outputs": [
    {
     "name": "stdout",
     "output_type": "stream",
     "text": [
      "No. of chars: 1919\n"
     ]
    }
   ],
   "source": [
    "print(\"No. of chars:\",len(char_index))"
   ]
  },
  {
   "cell_type": "code",
   "execution_count": 18,
   "metadata": {},
   "outputs": [
    {
     "name": "stdout",
     "output_type": "stream",
     "text": [
      "105\n",
      "2.5003457415723136\n",
      "max_char_len_fit 5\n"
     ]
    }
   ],
   "source": [
    "max_char_len=-1\n",
    "for i in char:\n",
    "    if(len(i)>max_char_len):\n",
    "        max_char_len=len(i)\n",
    "print(max_char_len)\n",
    "avg_char_len=0\n",
    "for i in char:\n",
    "    avg_char_len+=len(i)\n",
    "avg_char_len=avg_char_len/len(char)\n",
    "print(avg_char_len)\n",
    "max_char_len=int(2*avg_char_len)\n",
    "print(\"max_char_len_fit\",max_char_len)"
   ]
  },
  {
   "cell_type": "code",
   "execution_count": 19,
   "metadata": {},
   "outputs": [
    {
     "name": "stdout",
     "output_type": "stream",
     "text": [
      "No. of words: 82740\n",
      "No. of tags: 9\n",
      "62055\n"
     ]
    }
   ],
   "source": [
    "tokenizer_sent=Tokenizer()\n",
    "tokenizer_tags=Tokenizer()\n",
    "tokenizer_sent.fit_on_texts(sent)\n",
    "tokenizer_tags.fit_on_texts(tags)\n",
    "word_index_sent=tokenizer_sent.word_index\n",
    "word_index_tags=tokenizer_tags.word_index\n",
    "print(\"No. of words:\",len(word_index_sent))\n",
    "print(\"No. of tags:\",len(word_index_tags))\n",
    "num_words=(len(word_index_sent)*3)//4\n",
    "print(num_words)"
   ]
  },
  {
   "cell_type": "code",
   "execution_count": 20,
   "metadata": {},
   "outputs": [],
   "source": [
    "\n",
    "ref={}\n",
    "for i,j in word_index_sent.items():\n",
    "    if(j<=num_words):\n",
    "        ref[i]=j\n",
    "ref[\"<UNK_WORD>\"]=num_words+1\n",
    "word_index_sent=ref"
   ]
  },
  {
   "cell_type": "code",
   "execution_count": 21,
   "metadata": {},
   "outputs": [],
   "source": [
    "word_index_rev_sent={}\n",
    "word_index_rev_tags={}\n",
    "for i,j in word_index_sent.items():\n",
    "    word_index_rev_sent[j]=i\n",
    "for i,j in word_index_tags.items():\n",
    "    word_index_rev_tags[j]=i"
   ]
  },
  {
   "cell_type": "code",
   "execution_count": 22,
   "metadata": {},
   "outputs": [],
   "source": [
    "# word_index_sent"
   ]
  },
  {
   "cell_type": "code",
   "execution_count": 23,
   "metadata": {},
   "outputs": [],
   "source": [
    "word_char={}\n",
    "for i,j in word_index_sent.items():\n",
    "#     print(i,j)\n",
    "    l=[]\n",
    "    if(i==\"<UNK_WORD>\"):\n",
    "        l=[char_index[\"<UNK_CHAR>\"]]*max_char_len\n",
    "        word_char[i]=l\n",
    "#         print(l)\n",
    "        continue\n",
    "    for k in regex.findall(r'\\X',i):\n",
    "        if(k in char_index):\n",
    "#             print(k,end=\"-\")\n",
    "            h=char_index[k]\n",
    "        else:\n",
    "#             print(k)\n",
    "            h=char_index[\"<UNK_CHAR>\"]\n",
    "#         else:\n",
    "#             print(i)\n",
    "#             print(k,end=\"-\")\n",
    "#             h=char_index[\"<UNK_CHAR>\"]\n",
    "#             print(\"********\")\n",
    "#             print(\"------------------------------\")\n",
    "#             #         print(h)\n",
    "        l.append(h)\n",
    "    word_char[i]=l"
   ]
  },
  {
   "cell_type": "code",
   "execution_count": 24,
   "metadata": {},
   "outputs": [],
   "source": [
    "# for i in word_char.items():\n",
    "#     print(i)\n",
    "# print(word_char[\"<UNK_WORD>\"])"
   ]
  },
  {
   "cell_type": "code",
   "execution_count": 25,
   "metadata": {},
   "outputs": [],
   "source": [
    "for i,j in word_char.items():\n",
    "    word_char[i]=pad_sequences([j],maxlen=max_char_len,padding=\"post\")[0]"
   ]
  },
  {
   "cell_type": "code",
   "execution_count": 26,
   "metadata": {},
   "outputs": [
    {
     "name": "stdout",
     "output_type": "stream",
     "text": [
      "62056\n",
      "('सत्भिता', array([  7,  26, 164,  38,   0], dtype=int32))\n",
      "('रोडानास', array([119, 168,  40,   7,   0], dtype=int32))\n",
      "('मानवाधिकारी', array([  6,  36, 128,  13,  51], dtype=int32))\n",
      "('नक्शे', array([  6,  37, 243,   0,   0], dtype=int32))\n",
      "('स्ट्रेथेर्न', array([106,  85, 170,  16,   6], dtype=int32))\n",
      "('मेवात', array([118,  36,   2,   0,   0], dtype=int32))\n",
      "('सितारा', array([107,  38,  10,   0,   0], dtype=int32))\n",
      "('नटिनी', array([  6, 173,  66,   0,   0], dtype=int32))\n",
      "('राष्ट्रिय', array([ 10,  99, 106,  59,   8], dtype=int32))\n",
      "('एसीसी', array([18, 71, 71,  0,  0], dtype=int32))\n"
     ]
    }
   ],
   "source": [
    "print(len(word_char))\n",
    "counter=0\n",
    "for i in word_char.items():\n",
    "    print(i)\n",
    "    counter+=1\n",
    "    if(counter==10):break"
   ]
  },
  {
   "cell_type": "code",
   "execution_count": 27,
   "metadata": {},
   "outputs": [],
   "source": [
    "# word_char={}\n",
    "# for i,j in word_index_sent.items():\n",
    "#     l=[]\n",
    "#     for k in regex.findall(r'\\X',i):\n",
    "#         if(k in char_index):\n",
    "#             l.append(char_index[k])\n",
    "#         else:\n",
    "#             l.append(char_index[\"<UNK_CHAR>\"])\n",
    "#     word_char[i]=l\n",
    "# for i,j in word_char.items():\n",
    "#     word_char[i]=pad_sequences([j],maxlen=max_char_len,padding=\"post\")[0]"
   ]
  },
  {
   "cell_type": "code",
   "execution_count": 28,
   "metadata": {},
   "outputs": [],
   "source": [
    "# "
   ]
  },
  {
   "cell_type": "code",
   "execution_count": 29,
   "metadata": {},
   "outputs": [
    {
     "name": "stdout",
     "output_type": "stream",
     "text": [
      "62056\n",
      "('सत्भिता', array([  7,  26, 164,  38,   0], dtype=int32))\n",
      "('रोडानास', array([119, 168,  40,   7,   0], dtype=int32))\n",
      "('मानवाधिकारी', array([  6,  36, 128,  13,  51], dtype=int32))\n",
      "('नक्शे', array([  6,  37, 243,   0,   0], dtype=int32))\n",
      "('स्ट्रेथेर्न', array([106,  85, 170,  16,   6], dtype=int32))\n",
      "('मेवात', array([118,  36,   2,   0,   0], dtype=int32))\n",
      "('सितारा', array([107,  38,  10,   0,   0], dtype=int32))\n",
      "('नटिनी', array([  6, 173,  66,   0,   0], dtype=int32))\n",
      "('राष्ट्रिय', array([ 10,  99, 106,  59,   8], dtype=int32))\n",
      "('एसीसी', array([18, 71, 71,  0,  0], dtype=int32))\n"
     ]
    }
   ],
   "source": [
    "print(len(word_char))\n",
    "counter=0\n",
    "for i in word_char.items():\n",
    "    print(i)\n",
    "    counter+=1\n",
    "    if(counter==10):break"
   ]
  },
  {
   "cell_type": "code",
   "execution_count": 30,
   "metadata": {},
   "outputs": [],
   "source": [
    "word_char_int={}\n",
    "for i,j in word_char.items():\n",
    "    word_char_int[word_index_sent[i]]=j\n",
    "# for i in word_char_int.items():\n",
    "#     print(i)\n",
    "\n"
   ]
  },
  {
   "cell_type": "code",
   "execution_count": 31,
   "metadata": {},
   "outputs": [],
   "source": [
    "word_char_embedding_matrix=np.zeros((len(word_char) + 1, max_char_len))\n",
    "for i,j in word_char_int.items():\n",
    "    word_char_embedding_matrix[i]=j"
   ]
  },
  {
   "cell_type": "code",
   "execution_count": 32,
   "metadata": {},
   "outputs": [],
   "source": [
    "# for i in word_char_embedding_matrix:\n",
    "#     print(i)\n"
   ]
  },
  {
   "cell_type": "code",
   "execution_count": 33,
   "metadata": {},
   "outputs": [
    {
     "name": "stdout",
     "output_type": "stream",
     "text": [
      "(62057, 50)\n"
     ]
    }
   ],
   "source": [
    "char_embedding_matrix = np.zeros((len(word_char) + 1, char_embedding_size))\n",
    "for i,j in char_index_rev.items():\n",
    "    if(j in c2v.wv.vocab):\n",
    "        char_embedding_matrix[i]=c2v.wv[j]\n",
    "print(char_embedding_matrix.shape)"
   ]
  },
  {
   "cell_type": "code",
   "execution_count": 34,
   "metadata": {},
   "outputs": [],
   "source": [
    "# for i in char_embedding_matrix:\n",
    "#     print(i)"
   ]
  },
  {
   "cell_type": "code",
   "execution_count": 35,
   "metadata": {},
   "outputs": [],
   "source": [
    "char_int=[]\n",
    "for i in word_char_int.items():\n",
    "    char_int.append(i[1])\n",
    "# print(char_int)"
   ]
  },
  {
   "cell_type": "code",
   "execution_count": 36,
   "metadata": {},
   "outputs": [
    {
     "data": {
      "text/plain": [
       "{'datenum': 9,\n",
       " 'event': 8,\n",
       " 'location': 2,\n",
       " 'name': 3,\n",
       " 'number': 4,\n",
       " 'occupation': 5,\n",
       " 'organization': 6,\n",
       " 'other': 1,\n",
       " 'things': 7}"
      ]
     },
     "execution_count": 36,
     "metadata": {},
     "output_type": "execute_result"
    }
   ],
   "source": [
    "word_index_tags"
   ]
  },
  {
   "cell_type": "code",
   "execution_count": 37,
   "metadata": {},
   "outputs": [
    {
     "name": "stdout",
     "output_type": "stream",
     "text": [
      "<UNK_WORD>\n"
     ]
    }
   ],
   "source": [
    "# word_char[\"<UNK_WORD>\"]#array([2389, 2389, 2389, 2389, 2389], dtype=int32)\n",
    "# word_index_sent[\"<UNK_WORD>\"]#2389\n",
    "for i,j in word_index_rev_sent.items():\n",
    "    if(j==\"<UNK_WORD>\"):\n",
    "        print(j)\n"
   ]
  },
  {
   "cell_type": "code",
   "execution_count": 38,
   "metadata": {},
   "outputs": [],
   "source": [
    "sent_int=[]\n",
    "for i in sent:\n",
    "    l=[]\n",
    "    for j in i:\n",
    "        if(j in word_index_sent):\n",
    "            l.append(word_index_sent[j])\n",
    "        else:\n",
    "            l.append(word_index_sent[\"<UNK_WORD>\"])\n",
    "    sent_int.append(l)\n",
    "tags_int=[]\n",
    "for i in tags:\n",
    "    l=[]\n",
    "    for j in i:\n",
    "        l.append(word_index_tags[j])\n",
    "    tags_int.append(l)\n"
   ]
  },
  {
   "cell_type": "code",
   "execution_count": 39,
   "metadata": {},
   "outputs": [],
   "source": [
    "sent_int_padded=pad_sequences(sent_int,maxlen=max_len,padding='post')\n",
    "tags_int_padded=pad_sequences(tags_int,maxlen=max_len,padding=\"post\")\n",
    "# for i in tags_int_padded:\n",
    "#     print(i)"
   ]
  },
  {
   "cell_type": "code",
   "execution_count": 40,
   "metadata": {},
   "outputs": [],
   "source": [
    "embedding_size=100\n",
    "workers=5\n",
    "window_size=5\n",
    "word_min_count=1"
   ]
  },
  {
   "cell_type": "code",
   "execution_count": 41,
   "metadata": {},
   "outputs": [],
   "source": [
    "# for i in sent:\n",
    "#     print(i)"
   ]
  },
  {
   "cell_type": "code",
   "execution_count": 42,
   "metadata": {},
   "outputs": [
    {
     "name": "stdout",
     "output_type": "stream",
     "text": [
      "(62057, 100)\n"
     ]
    }
   ],
   "source": [
    "w2v=Word2Vec(sent,size=embedding_size,workers=workers,window=window_size,min_count=word_min_count)\n",
    "embedding_matrix = np.zeros((len(word_index_sent) + 1, embedding_size))\n",
    "print(embedding_matrix.shape)"
   ]
  },
  {
   "cell_type": "code",
   "execution_count": 43,
   "metadata": {},
   "outputs": [
    {
     "name": "stdout",
     "output_type": "stream",
     "text": [
      "[[ 0.00000000e+00  0.00000000e+00  0.00000000e+00 ...  0.00000000e+00\n",
      "   0.00000000e+00  0.00000000e+00]\n",
      " [-2.70064545e+00  8.75376284e-01  2.45188355e+00 ... -5.41720927e-01\n",
      "   6.19265199e-01 -1.23152351e+00]\n",
      " [-1.97350514e+00  7.07773387e-01  6.23872757e-01 ... -1.55663061e+00\n",
      "   9.09545422e-01 -9.53293085e-01]\n",
      " ...\n",
      " [ 9.99855809e-03 -1.62169139e-03 -5.47547452e-03 ...  1.25894870e-03\n",
      "   4.99360322e-04  1.18339499e-02]\n",
      " [ 5.58953034e-03 -6.50765514e-03 -1.19271071e-03 ... -6.70065056e-04\n",
      "   4.76801768e-03  1.12788463e-02]\n",
      " [ 0.00000000e+00  0.00000000e+00  0.00000000e+00 ...  0.00000000e+00\n",
      "   0.00000000e+00  0.00000000e+00]]\n"
     ]
    }
   ],
   "source": [
    "for i,j in word_index_rev_sent.items():\n",
    "    if(j in w2v.wv.vocab):\n",
    "        embedding_matrix[i]=w2v.wv[j]\n",
    "print(embedding_matrix)"
   ]
  },
  {
   "cell_type": "code",
   "execution_count": 44,
   "metadata": {},
   "outputs": [
    {
     "name": "stdout",
     "output_type": "stream",
     "text": [
      "('organization', 6)\n",
      "('event', 8)\n",
      "('location', 2)\n",
      "('other', 1)\n",
      "('occupation', 5)\n",
      "('number', 4)\n",
      "('name', 3)\n",
      "('things', 7)\n",
      "('datenum', 9)\n",
      "{'number': array([0., 0., 0., 1., 0., 0., 0., 0., 0.]), 'event': array([0., 0., 0., 0., 0., 0., 0., 1., 0.]), 'location': array([0., 1., 0., 0., 0., 0., 0., 0., 0.]), 'other': array([1., 0., 0., 0., 0., 0., 0., 0., 0.]), 'occupation': array([0., 0., 0., 0., 1., 0., 0., 0., 0.]), 'organization': array([0., 0., 0., 0., 0., 1., 0., 0., 0.]), 'name': array([0., 0., 1., 0., 0., 0., 0., 0., 0.]), 'things': array([0., 0., 0., 0., 0., 0., 1., 0., 0.]), 'datenum': array([0., 0., 0., 0., 0., 0., 0., 0., 1.])}\n"
     ]
    }
   ],
   "source": [
    "tag_dir={}\n",
    "for i in word_index_tags.items():\n",
    "    print(i)\n",
    "    tag_dir[i[0]]=np.eye(len(word_index_rev_tags))[i[1]-1]\n",
    "print(tag_dir)"
   ]
  },
  {
   "cell_type": "code",
   "execution_count": 45,
   "metadata": {},
   "outputs": [
    {
     "name": "stdout",
     "output_type": "stream",
     "text": [
      "(68883, 38)\n"
     ]
    }
   ],
   "source": [
    "print(tags_int_padded.shape)"
   ]
  },
  {
   "cell_type": "code",
   "execution_count": 46,
   "metadata": {},
   "outputs": [],
   "source": [
    "tags_vec=[]\n",
    "count=0\n",
    "for i in tags_int_padded:\n",
    "    l=[]\n",
    "    for j in i:\n",
    "#         print(j,end=\"____\")\n",
    "        if(j==0):\n",
    "            l.append(tag_dir[\"other\"])\n",
    "        else:\n",
    "            l.append(tag_dir[word_index_rev_tags[j]])\n",
    "    l=np.array(l)\n",
    "#     print(l.shape)\n",
    "#     print(count)\n",
    "    count+=1\n",
    "    tags_vec.append(l)"
   ]
  },
  {
   "cell_type": "code",
   "execution_count": 47,
   "metadata": {},
   "outputs": [
    {
     "name": "stdout",
     "output_type": "stream",
     "text": [
      "(68883, 38)\n",
      "(68883, 38)\n",
      "(68883, 38, 9)\n",
      "['लेकिन', 'आधुनिकीकरण', 'के', 'बावजूद', 'में', ',', 'कारखाने', 'लाभ', 'नहीं', 'उसके', 'बाद', 'मुख्य', 'रूप', 'से', 'कंपनी', ',', 'उच्च', 'उत्पादन', 'लागत', 'और', 'अपेक्षाकृत', 'कम', 'उर्वरकों', 'की', 'बिक्री', 'मूल्य', ',', 'बढ़ते', 'मजदूरी', 'बिल', ',', 'उच्च', 'रखरखाव', 'खर्च', 'का', 'अवैज्ञानिक', 'विभाजन', 'की', 'वजह', 'से', 'मूल्यांकन', 'किया', 'प्राप्य', 'क्षमता', 'के', 'कारण', 'अधिक', 'के', 'बाद', 'भी', 'बनाए', 'रखने', 'के', 'सकता', 'है', 'पौधों', ',', 'कम', 'विनिर्देशों', 'गुणवत्ता', 'बड़े', 'बुनियादी', 'ढांचे', 'की', 'लागत', 'के', 'कच्चे', 'माल', 'की', 'उपलब्धता', 'और', 'अंततः', 'भारत', 'सरकार', 'की', 'उम्र', 'बढ़ने', 'के', 'लिए', 'सितंबर', '2002', 'में', 'कारखाने', 'के', 'आपरेशन', 'के', 'बंद', 'का', 'फैसला', 'किया', '.']\n",
      "['other', 'other', 'other', 'other', 'other', 'other', 'other', 'other', 'other', 'other', 'other', 'other', 'name', 'other', 'other', 'other', 'other', 'other', 'other', 'other', 'other', 'other', 'other', 'other', 'other', 'other', 'other', 'other', 'other', 'other', 'other', 'other', 'event', 'other', 'other', 'other', 'other', 'other', 'other', 'other', 'name', 'other', 'other', 'other', 'other', 'other', 'other', 'other', 'other', 'other', 'other', 'other', 'other', 'other', 'other', 'other', 'other', 'other', 'other', 'other', 'things', 'other', 'other', 'other', 'other', 'other', 'other', 'other', 'other', 'other', 'other', 'other', 'location', 'name', 'other', 'name', 'other', 'other', 'other', 'other', 'number', 'other', 'other', 'other', 'other', 'other', 'other', 'other', 'other', 'other', 'other']\n"
     ]
    }
   ],
   "source": [
    "print(sent_int_padded.shape)\n",
    "print(tags_int_padded.shape)\n",
    "print(np.array(tags_vec).shape)\n",
    "print(sent[0])\n",
    "\n",
    "print(tags[0])"
   ]
  },
  {
   "cell_type": "code",
   "execution_count": 48,
   "metadata": {},
   "outputs": [],
   "source": [
    "tags_vec=np.array(tags_vec)\n"
   ]
  },
  {
   "cell_type": "code",
   "execution_count": 49,
   "metadata": {},
   "outputs": [],
   "source": [
    "num_hidden_units=300\n",
    "from keras.layers import Embedding,InputLayer,Conv1D,MaxPooling1D,Input,Flatten,concatenate,merge,Reshape,Dropout"
   ]
  },
  {
   "cell_type": "code",
   "execution_count": 50,
   "metadata": {},
   "outputs": [],
   "source": [
    "inputs0=Input(shape=(max_len,))\n",
    "emb0=Embedding(len(word_index_sent)+1,max_char_len,weights=[word_char_embedding_matrix],trainable=False,input_length=max_len)(inputs0)\n",
    "emb01=TimeDistributed(Embedding(len(word_char)+1,char_embedding_size,weights=[char_embedding_matrix],trainable=False,input_length=max_char_len))(emb0)\n",
    "conv0=TimeDistributed(Conv1D(filters=20,kernel_size=5,padding=\"same\",activation=\"relu\"))(emb01)\n",
    "conv01=TimeDistributed(Conv1D(filters=11,kernel_size=5,padding=\"same\",activation=\"relu\"))(conv0)\n",
    "maxpool0=TimeDistributed(MaxPooling1D(pool_size=max_char_len))(conv01)\n",
    "# dropout0=TimeDistributed(Dropout(0.25))(maxpool0)\n",
    "newdim = tuple([x for x in maxpool0.shape.as_list() if x != 1 and x is not None])\n",
    "reshape0= Reshape(newdim) (maxpool0)"
   ]
  },
  {
   "cell_type": "code",
   "execution_count": 70,
   "metadata": {},
   "outputs": [
    {
     "data": {
      "text/plain": [
       "(62057, 5)"
      ]
     },
     "execution_count": 70,
     "metadata": {},
     "output_type": "execute_result"
    }
   ],
   "source": [
    "word_char_embedding_matrix.shape"
   ]
  },
  {
   "cell_type": "code",
   "execution_count": 51,
   "metadata": {},
   "outputs": [
    {
     "name": "stdout",
     "output_type": "stream",
     "text": [
      "Tensor(\"time_distributed_1/Reshape_1:0\", shape=(?, 38, 5, 50), dtype=float32)\n",
      "Tensor(\"time_distributed_2/Reshape_2:0\", shape=(?, 38, 5, 20), dtype=float32)\n",
      "Tensor(\"time_distributed_3/Reshape_2:0\", shape=(?, 38, 5, 11), dtype=float32)\n"
     ]
    }
   ],
   "source": [
    "print(emb01)\n",
    "print(conv0)\n",
    "print(conv01)"
   ]
  },
  {
   "cell_type": "code",
   "execution_count": 52,
   "metadata": {},
   "outputs": [],
   "source": [
    "inputs1=Input(shape=(max_len,))\n",
    "emb1=Embedding(len(word_index_sent)+1,embedding_size,weights=[embedding_matrix],trainable=False,input_length=max_len)(inputs1)          \n",
    "concat_0_1=concatenate([emb1,reshape0],axis=-1)\n",
    "conv1=Conv1D(filters=15,kernel_size=5,padding=\"same\",activation=\"relu\")(concat_0_1)\n",
    "# dropout1=Dropout(0.25)(conv1)"
   ]
  },
  {
   "cell_type": "code",
   "execution_count": 53,
   "metadata": {},
   "outputs": [],
   "source": [
    "inputs2=Input(shape=(max_len,))\n",
    "emb2=Embedding(len(word_index_sent)+1,embedding_size,weights=[embedding_matrix],trainable=False,input_length=max_len)(inputs2)\n",
    "concat_1_2=concatenate([emb2,conv1],axis=-1)\n",
    "layers=Bidirectional(LSTM(units=num_hidden_units,input_shape=(max_len,embedding_size),return_sequences=True))(conv1)\n",
    "# dropout2=Dropout(0.25)(layers)\n",
    "layers=TimeDistributed(Dense(100))(layers)\n",
    "layers=TimeDistributed(Dense(100))(layers)\n",
    "layers=TimeDistributed(Dense(len(word_index_tags),activation=\"softmax\"))(layers)\n"
   ]
  },
  {
   "cell_type": "code",
   "execution_count": 72,
   "metadata": {},
   "outputs": [
    {
     "data": {
      "text/plain": [
       "300"
      ]
     },
     "execution_count": 72,
     "metadata": {},
     "output_type": "execute_result"
    }
   ],
   "source": [
    "num_hidden_units\n"
   ]
  },
  {
   "cell_type": "code",
   "execution_count": 54,
   "metadata": {},
   "outputs": [],
   "source": [
    "model=Model(inputs=[inputs0,inputs1,inputs2],outputs=layers)\n",
    "model.compile(optimizer=\"adam\",metrics=[\"mae\",\"acc\"],loss=\"categorical_crossentropy\")\n"
   ]
  },
  {
   "cell_type": "code",
   "execution_count": 55,
   "metadata": {},
   "outputs": [],
   "source": [
    "# from sklearn.model_selection import train_test_split\n",
    "# x_train,x_test,y_train,y_test=train_test_split(sent_int_padded,tags_vec,test_size=0.3,random_state=1)\n",
    "# print(x_train.shape)\n",
    "# print(y_train.shape)\n",
    "# print(x_test.shape)\n",
    "# print(y_test.shape)\n",
    "x_train=sent_int_padded\n",
    "y_train=tags_vec"
   ]
  },
  {
   "cell_type": "code",
   "execution_count": 56,
   "metadata": {},
   "outputs": [
    {
     "name": "stdout",
     "output_type": "stream",
     "text": [
      "__________________________________________________________________________________________________\n",
      "Layer (type)                    Output Shape         Param #     Connected to                     \n",
      "==================================================================================================\n",
      "input_1 (InputLayer)            (None, 38)           0                                            \n",
      "__________________________________________________________________________________________________\n",
      "embedding_1 (Embedding)         (None, 38, 5)        310285      input_1[0][0]                    \n",
      "__________________________________________________________________________________________________\n",
      "time_distributed_1 (TimeDistrib (None, 38, 5, 50)    3102850     embedding_1[0][0]                \n",
      "__________________________________________________________________________________________________\n",
      "time_distributed_2 (TimeDistrib (None, 38, 5, 20)    5020        time_distributed_1[0][0]         \n",
      "__________________________________________________________________________________________________\n",
      "time_distributed_3 (TimeDistrib (None, 38, 5, 11)    1111        time_distributed_2[0][0]         \n",
      "__________________________________________________________________________________________________\n",
      "input_2 (InputLayer)            (None, 38)           0                                            \n",
      "__________________________________________________________________________________________________\n",
      "time_distributed_4 (TimeDistrib (None, 38, 1, 11)    0           time_distributed_3[0][0]         \n",
      "__________________________________________________________________________________________________\n",
      "embedding_3 (Embedding)         (None, 38, 100)      6205700     input_2[0][0]                    \n",
      "__________________________________________________________________________________________________\n",
      "reshape_1 (Reshape)             (None, 38, 11)       0           time_distributed_4[0][0]         \n",
      "__________________________________________________________________________________________________\n",
      "concatenate_1 (Concatenate)     (None, 38, 111)      0           embedding_3[0][0]                \n",
      "                                                                 reshape_1[0][0]                  \n",
      "__________________________________________________________________________________________________\n",
      "conv1d_3 (Conv1D)               (None, 38, 15)       8340        concatenate_1[0][0]              \n",
      "__________________________________________________________________________________________________\n",
      "bidirectional_1 (Bidirectional) (None, 38, 600)      758400      conv1d_3[0][0]                   \n",
      "__________________________________________________________________________________________________\n",
      "time_distributed_5 (TimeDistrib (None, 38, 100)      60100       bidirectional_1[0][0]            \n",
      "__________________________________________________________________________________________________\n",
      "time_distributed_6 (TimeDistrib (None, 38, 100)      10100       time_distributed_5[0][0]         \n",
      "__________________________________________________________________________________________________\n",
      "time_distributed_7 (TimeDistrib (None, 38, 9)        909         time_distributed_6[0][0]         \n",
      "==================================================================================================\n",
      "Total params: 10,462,815\n",
      "Trainable params: 3,946,830\n",
      "Non-trainable params: 6,515,985\n",
      "__________________________________________________________________________________________________\n"
     ]
    }
   ],
   "source": [
    "model.summary()\n"
   ]
  },
  {
   "cell_type": "code",
   "execution_count": 64,
   "metadata": {},
   "outputs": [],
   "source": [
    "import sys\n",
    "orig_stdout = sys.stdout\n",
    "f = open('out.txt', 'w')\n",
    "sys.stdout = f\n",
    "print(model.summary())\n",
    "sys.stdout = orig_stdout\n",
    "f.close()"
   ]
  },
  {
   "cell_type": "code",
   "execution_count": 57,
   "metadata": {},
   "outputs": [],
   "source": [
    "from keras.utils import plot_model\n",
    "plot_model(model, to_file='model.png',show_layer_names=True)#,show_shapes=True,show_layer_names=True)\n"
   ]
  },
  {
   "cell_type": "code",
   "execution_count": 58,
   "metadata": {},
   "outputs": [
    {
     "name": "stdout",
     "output_type": "stream",
     "text": [
      "input_1\n",
      "(None, 38)\n",
      "(None, 38)\n",
      "--------------------\n",
      "embedding_1\n",
      "(None, 38)\n",
      "(None, 38, 5)\n",
      "--------------------\n",
      "time_distributed_1\n",
      "(None, 38, 5)\n",
      "(None, 38, 5, 50)\n",
      "--------------------\n",
      "time_distributed_2\n",
      "(None, 38, 5, 50)\n",
      "(None, 38, 5, 20)\n",
      "--------------------\n",
      "time_distributed_3\n",
      "(None, 38, 5, 20)\n",
      "(None, 38, 5, 11)\n",
      "--------------------\n",
      "input_2\n",
      "(None, 38)\n",
      "(None, 38)\n",
      "--------------------\n",
      "time_distributed_4\n",
      "(None, 38, 5, 11)\n",
      "(None, 38, 1, 11)\n",
      "--------------------\n",
      "embedding_3\n",
      "(None, 38)\n",
      "(None, 38, 100)\n",
      "--------------------\n",
      "reshape_1\n",
      "(None, 38, 1, 11)\n",
      "(None, 38, 11)\n",
      "--------------------\n",
      "concatenate_1\n",
      "[(None, 38, 100), (None, 38, 11)]\n",
      "(None, 38, 111)\n",
      "--------------------\n",
      "conv1d_3\n",
      "(None, 38, 111)\n",
      "(None, 38, 15)\n",
      "--------------------\n",
      "bidirectional_1\n",
      "(None, 38, 15)\n",
      "(None, 38, 600)\n",
      "--------------------\n",
      "time_distributed_5\n",
      "(None, 38, 600)\n",
      "(None, 38, 100)\n",
      "--------------------\n",
      "time_distributed_6\n",
      "(None, 38, 100)\n",
      "(None, 38, 100)\n",
      "--------------------\n",
      "time_distributed_7\n",
      "(None, 38, 100)\n",
      "(None, 38, 9)\n",
      "--------------------\n"
     ]
    }
   ],
   "source": [
    "for i in model.layers:\n",
    "    print(i.name)\n",
    "    print(i.input_shape)\n",
    "    print(i.output_shape)\n",
    "    print(\"--------------------\")"
   ]
  },
  {
   "cell_type": "code",
   "execution_count": 59,
   "metadata": {},
   "outputs": [
    {
     "data": {
      "text/plain": [
       "1919"
      ]
     },
     "execution_count": 59,
     "metadata": {},
     "output_type": "execute_result"
    }
   ],
   "source": [
    "# for i in y_train:\n",
    "# #     print(i)\n",
    "#     print(len(i))\n",
    "#     print(\"------------------\")\n",
    "len(char_index_rev)"
   ]
  },
  {
   "cell_type": "code",
   "execution_count": 60,
   "metadata": {},
   "outputs": [],
   "source": [
    "# for i in x_train[:1000]:\n",
    "#     for j in i:\n",
    "#         if(j==0):\n",
    "#             break\n",
    "#         print(word_index_rev_sent[j],end=\"/\")\n",
    "#         l=[]\n",
    "#         for k in word_char_int[j]:\n",
    "#             if(k==0):\n",
    "#                 break\n",
    "#             l.append(char_index_rev[k])\n",
    "#         print(\"\".join(l),end=\" \")\n",
    "#     print()"
   ]
  },
  {
   "cell_type": "code",
   "execution_count": null,
   "metadata": {},
   "outputs": [],
   "source": []
  },
  {
   "cell_type": "code",
   "execution_count": 61,
   "metadata": {},
   "outputs": [],
   "source": [
    "from keras.callbacks import EarlyStopping"
   ]
  },
  {
   "cell_type": "code",
   "execution_count": 62,
   "metadata": {},
   "outputs": [
    {
     "name": "stdout",
     "output_type": "stream",
     "text": [
      "Train on 55106 samples, validate on 13777 samples\n",
      "Epoch 1/25\n",
      "  170/55106 [..............................] - ETA: 35:42 - loss: 0.7924 - mean_absolute_error: 0.0665 - acc: 0.8602"
     ]
    },
    {
     "ename": "KeyboardInterrupt",
     "evalue": "",
     "output_type": "error",
     "traceback": [
      "\u001b[0;31m---------------------------------------------------------------------------\u001b[0m",
      "\u001b[0;31mKeyboardInterrupt\u001b[0m                         Traceback (most recent call last)",
      "\u001b[0;32m<ipython-input-62-895ee755e858>\u001b[0m in \u001b[0;36m<module>\u001b[0;34m()\u001b[0m\n\u001b[1;32m      4\u001b[0m \u001b[0;31m# for i in range(epochs):\u001b[0m\u001b[0;34m\u001b[0m\u001b[0;34m\u001b[0m\u001b[0m\n\u001b[1;32m      5\u001b[0m his=model.fit(x=[x_train,x_train,x_train],y=y_train,validation_split=0.2,epochs=25, batch_size=10,callbacks=[\n\u001b[0;32m----> 6\u001b[0;31m     EarlyStopping(monitor=\"val_loss\",mode=\"auto\",patience=2)])\n\u001b[0m",
      "\u001b[0;32m~/tensorflow/lib/python3.5/site-packages/keras/engine/training.py\u001b[0m in \u001b[0;36mfit\u001b[0;34m(self, x, y, batch_size, epochs, verbose, callbacks, validation_split, validation_data, shuffle, class_weight, sample_weight, initial_epoch, steps_per_epoch, validation_steps, **kwargs)\u001b[0m\n\u001b[1;32m   1040\u001b[0m                                         \u001b[0minitial_epoch\u001b[0m\u001b[0;34m=\u001b[0m\u001b[0minitial_epoch\u001b[0m\u001b[0;34m,\u001b[0m\u001b[0;34m\u001b[0m\u001b[0m\n\u001b[1;32m   1041\u001b[0m                                         \u001b[0msteps_per_epoch\u001b[0m\u001b[0;34m=\u001b[0m\u001b[0msteps_per_epoch\u001b[0m\u001b[0;34m,\u001b[0m\u001b[0;34m\u001b[0m\u001b[0m\n\u001b[0;32m-> 1042\u001b[0;31m                                         validation_steps=validation_steps)\n\u001b[0m\u001b[1;32m   1043\u001b[0m \u001b[0;34m\u001b[0m\u001b[0m\n\u001b[1;32m   1044\u001b[0m     def evaluate(self, x=None, y=None,\n",
      "\u001b[0;32m~/tensorflow/lib/python3.5/site-packages/keras/engine/training_arrays.py\u001b[0m in \u001b[0;36mfit_loop\u001b[0;34m(model, f, ins, out_labels, batch_size, epochs, verbose, callbacks, val_f, val_ins, shuffle, callback_metrics, initial_epoch, steps_per_epoch, validation_steps)\u001b[0m\n\u001b[1;32m    197\u001b[0m                     \u001b[0mins_batch\u001b[0m\u001b[0;34m[\u001b[0m\u001b[0mi\u001b[0m\u001b[0;34m]\u001b[0m \u001b[0;34m=\u001b[0m \u001b[0mins_batch\u001b[0m\u001b[0;34m[\u001b[0m\u001b[0mi\u001b[0m\u001b[0;34m]\u001b[0m\u001b[0;34m.\u001b[0m\u001b[0mtoarray\u001b[0m\u001b[0;34m(\u001b[0m\u001b[0;34m)\u001b[0m\u001b[0;34m\u001b[0m\u001b[0m\n\u001b[1;32m    198\u001b[0m \u001b[0;34m\u001b[0m\u001b[0m\n\u001b[0;32m--> 199\u001b[0;31m                 \u001b[0mouts\u001b[0m \u001b[0;34m=\u001b[0m \u001b[0mf\u001b[0m\u001b[0;34m(\u001b[0m\u001b[0mins_batch\u001b[0m\u001b[0;34m)\u001b[0m\u001b[0;34m\u001b[0m\u001b[0m\n\u001b[0m\u001b[1;32m    200\u001b[0m                 \u001b[0;32mif\u001b[0m \u001b[0;32mnot\u001b[0m \u001b[0misinstance\u001b[0m\u001b[0;34m(\u001b[0m\u001b[0mouts\u001b[0m\u001b[0;34m,\u001b[0m \u001b[0mlist\u001b[0m\u001b[0;34m)\u001b[0m\u001b[0;34m:\u001b[0m\u001b[0;34m\u001b[0m\u001b[0m\n\u001b[1;32m    201\u001b[0m                     \u001b[0mouts\u001b[0m \u001b[0;34m=\u001b[0m \u001b[0;34m[\u001b[0m\u001b[0mouts\u001b[0m\u001b[0;34m]\u001b[0m\u001b[0;34m\u001b[0m\u001b[0m\n",
      "\u001b[0;32m~/tensorflow/lib/python3.5/site-packages/keras/backend/tensorflow_backend.py\u001b[0m in \u001b[0;36m__call__\u001b[0;34m(self, inputs)\u001b[0m\n\u001b[1;32m   2659\u001b[0m                 \u001b[0;32mreturn\u001b[0m \u001b[0mself\u001b[0m\u001b[0;34m.\u001b[0m\u001b[0m_legacy_call\u001b[0m\u001b[0;34m(\u001b[0m\u001b[0minputs\u001b[0m\u001b[0;34m)\u001b[0m\u001b[0;34m\u001b[0m\u001b[0m\n\u001b[1;32m   2660\u001b[0m \u001b[0;34m\u001b[0m\u001b[0m\n\u001b[0;32m-> 2661\u001b[0;31m             \u001b[0;32mreturn\u001b[0m \u001b[0mself\u001b[0m\u001b[0;34m.\u001b[0m\u001b[0m_call\u001b[0m\u001b[0;34m(\u001b[0m\u001b[0minputs\u001b[0m\u001b[0;34m)\u001b[0m\u001b[0;34m\u001b[0m\u001b[0m\n\u001b[0m\u001b[1;32m   2662\u001b[0m         \u001b[0;32melse\u001b[0m\u001b[0;34m:\u001b[0m\u001b[0;34m\u001b[0m\u001b[0m\n\u001b[1;32m   2663\u001b[0m             \u001b[0;32mif\u001b[0m \u001b[0mpy_any\u001b[0m\u001b[0;34m(\u001b[0m\u001b[0mis_tensor\u001b[0m\u001b[0;34m(\u001b[0m\u001b[0mx\u001b[0m\u001b[0;34m)\u001b[0m \u001b[0;32mfor\u001b[0m \u001b[0mx\u001b[0m \u001b[0;32min\u001b[0m \u001b[0minputs\u001b[0m\u001b[0;34m)\u001b[0m\u001b[0;34m:\u001b[0m\u001b[0;34m\u001b[0m\u001b[0m\n",
      "\u001b[0;32m~/tensorflow/lib/python3.5/site-packages/keras/backend/tensorflow_backend.py\u001b[0m in \u001b[0;36m_call\u001b[0;34m(self, inputs)\u001b[0m\n\u001b[1;32m   2629\u001b[0m                                 \u001b[0msymbol_vals\u001b[0m\u001b[0;34m,\u001b[0m\u001b[0;34m\u001b[0m\u001b[0m\n\u001b[1;32m   2630\u001b[0m                                 session)\n\u001b[0;32m-> 2631\u001b[0;31m         \u001b[0mfetched\u001b[0m \u001b[0;34m=\u001b[0m \u001b[0mself\u001b[0m\u001b[0;34m.\u001b[0m\u001b[0m_callable_fn\u001b[0m\u001b[0;34m(\u001b[0m\u001b[0;34m*\u001b[0m\u001b[0marray_vals\u001b[0m\u001b[0;34m)\u001b[0m\u001b[0;34m\u001b[0m\u001b[0m\n\u001b[0m\u001b[1;32m   2632\u001b[0m         \u001b[0;32mreturn\u001b[0m \u001b[0mfetched\u001b[0m\u001b[0;34m[\u001b[0m\u001b[0;34m:\u001b[0m\u001b[0mlen\u001b[0m\u001b[0;34m(\u001b[0m\u001b[0mself\u001b[0m\u001b[0;34m.\u001b[0m\u001b[0moutputs\u001b[0m\u001b[0;34m)\u001b[0m\u001b[0;34m]\u001b[0m\u001b[0;34m\u001b[0m\u001b[0m\n\u001b[1;32m   2633\u001b[0m \u001b[0;34m\u001b[0m\u001b[0m\n",
      "\u001b[0;32m~/tensorflow/lib/python3.5/site-packages/tensorflow/python/client/session.py\u001b[0m in \u001b[0;36m__call__\u001b[0;34m(self, *args, **kwargs)\u001b[0m\n\u001b[1;32m   1397\u001b[0m           ret = tf_session.TF_SessionRunCallable(\n\u001b[1;32m   1398\u001b[0m               \u001b[0mself\u001b[0m\u001b[0;34m.\u001b[0m\u001b[0m_session\u001b[0m\u001b[0;34m.\u001b[0m\u001b[0m_session\u001b[0m\u001b[0;34m,\u001b[0m \u001b[0mself\u001b[0m\u001b[0;34m.\u001b[0m\u001b[0m_handle\u001b[0m\u001b[0;34m,\u001b[0m \u001b[0margs\u001b[0m\u001b[0;34m,\u001b[0m \u001b[0mstatus\u001b[0m\u001b[0;34m,\u001b[0m\u001b[0;34m\u001b[0m\u001b[0m\n\u001b[0;32m-> 1399\u001b[0;31m               run_metadata_ptr)\n\u001b[0m\u001b[1;32m   1400\u001b[0m         \u001b[0;32mif\u001b[0m \u001b[0mrun_metadata\u001b[0m\u001b[0;34m:\u001b[0m\u001b[0;34m\u001b[0m\u001b[0m\n\u001b[1;32m   1401\u001b[0m           \u001b[0mproto_data\u001b[0m \u001b[0;34m=\u001b[0m \u001b[0mtf_session\u001b[0m\u001b[0;34m.\u001b[0m\u001b[0mTF_GetBuffer\u001b[0m\u001b[0;34m(\u001b[0m\u001b[0mrun_metadata_ptr\u001b[0m\u001b[0;34m)\u001b[0m\u001b[0;34m\u001b[0m\u001b[0m\n",
      "\u001b[0;31mKeyboardInterrupt\u001b[0m: "
     ]
    }
   ],
   "source": [
    "epochs=10\n",
    "prev_loss=1\n",
    "loss_increase_warning=0\n",
    "# for i in range(epochs):\n",
    "his=model.fit(x=[x_train,x_train,x_train],y=y_train,validation_split=0.2,epochs=25, batch_size=10,callbacks=[\n",
    "    EarlyStopping(monitor=\"val_loss\",mode=\"auto\",patience=2)])"
   ]
  },
  {
   "cell_type": "code",
   "execution_count": null,
   "metadata": {
    "scrolled": true
   },
   "outputs": [],
   "source": [
    "# model.evaluate([x_test,x_test,x_test],y_test)"
   ]
  },
  {
   "cell_type": "code",
   "execution_count": null,
   "metadata": {},
   "outputs": [],
   "source": [
    "# # serialize model to JSON\n",
    "# model_json = model.to_json()\n",
    "# with open(\"model_hindi_safe.json\", \"w\") as json_file:\n",
    "#     json_file.write(model_json)\n",
    "# # serialize weights to HDF5\n",
    "# model.save_weights(\"model_hindi_safe.h5\")\n",
    "# print(\"Saved model to disk\")"
   ]
  },
  {
   "cell_type": "code",
   "execution_count": null,
   "metadata": {},
   "outputs": [],
   "source": [
    "model.save(\"ner_hindi_safe_final.h5\")"
   ]
  },
  {
   "cell_type": "code",
   "execution_count": 65,
   "metadata": {},
   "outputs": [],
   "source": [
    "##### to predict load the new model along with the weights\n",
    "from keras.models import load_model\n",
    "model = load_model('ner_hindi_safe_final.h5')"
   ]
  },
  {
   "cell_type": "code",
   "execution_count": 67,
   "metadata": {},
   "outputs": [
    {
     "name": "stdout",
     "output_type": "stream",
     "text": [
      "__________________________________________________________________________________________________\n",
      "Layer (type)                    Output Shape         Param #     Connected to                     \n",
      "==================================================================================================\n",
      "input_4 (InputLayer)            (None, 38)           0                                            \n",
      "__________________________________________________________________________________________________\n",
      "embedding_5 (Embedding)         (None, 38, 5)        310285      input_4[0][0]                    \n",
      "__________________________________________________________________________________________________\n",
      "time_distributed_8 (TimeDistrib (None, 38, 5, 50)    3102850     embedding_5[0][0]                \n",
      "__________________________________________________________________________________________________\n",
      "time_distributed_9 (TimeDistrib (None, 38, 5, 20)    5020        time_distributed_8[0][0]         \n",
      "__________________________________________________________________________________________________\n",
      "time_distributed_10 (TimeDistri (None, 38, 5, 11)    1111        time_distributed_9[0][0]         \n",
      "__________________________________________________________________________________________________\n",
      "input_5 (InputLayer)            (None, 38)           0                                            \n",
      "__________________________________________________________________________________________________\n",
      "time_distributed_11 (TimeDistri (None, 38, 1, 11)    0           time_distributed_10[0][0]        \n",
      "__________________________________________________________________________________________________\n",
      "embedding_7 (Embedding)         (None, 38, 100)      6205700     input_5[0][0]                    \n",
      "__________________________________________________________________________________________________\n",
      "reshape_2 (Reshape)             (None, 38, 11)       0           time_distributed_11[0][0]        \n",
      "__________________________________________________________________________________________________\n",
      "input_6 (InputLayer)            (None, 38)           0                                            \n",
      "__________________________________________________________________________________________________\n",
      "concatenate_3 (Concatenate)     (None, 38, 111)      0           embedding_7[0][0]                \n",
      "                                                                 reshape_2[0][0]                  \n",
      "__________________________________________________________________________________________________\n",
      "embedding_8 (Embedding)         (None, 38, 100)      6205700     input_6[0][0]                    \n",
      "__________________________________________________________________________________________________\n",
      "conv1d_6 (Conv1D)               (None, 38, 15)       8340        concatenate_3[0][0]              \n",
      "__________________________________________________________________________________________________\n",
      "concatenate_4 (Concatenate)     (None, 38, 115)      0           embedding_8[0][0]                \n",
      "                                                                 conv1d_6[0][0]                   \n",
      "__________________________________________________________________________________________________\n",
      "bidirectional_2 (Bidirectional) (None, 38, 600)      998400      concatenate_4[0][0]              \n",
      "__________________________________________________________________________________________________\n",
      "time_distributed_12 (TimeDistri (None, 38, 100)      60100       bidirectional_2[0][0]            \n",
      "__________________________________________________________________________________________________\n",
      "time_distributed_13 (TimeDistri (None, 38, 100)      10100       time_distributed_12[0][0]        \n",
      "__________________________________________________________________________________________________\n",
      "time_distributed_14 (TimeDistri (None, 38, 9)        909         time_distributed_13[0][0]        \n",
      "==================================================================================================\n",
      "Total params: 16,908,515\n",
      "Trainable params: 4,186,830\n",
      "Non-trainable params: 12,721,685\n",
      "__________________________________________________________________________________________________\n"
     ]
    }
   ],
   "source": [
    "# model.evaluate([x_test,x_test,x_test],y_test)==model2.evaluate([x_test,x_test,x_test],y_test)\n",
    "model.summary()"
   ]
  },
  {
   "cell_type": "code",
   "execution_count": null,
   "metadata": {},
   "outputs": [],
   "source": [
    "\n",
    "# ans=model.predict([x_test,x_test,x_test])\n",
    "# c_other=0\n",
    "# i_other=0\n",
    "# c_non=0\n",
    "# i_non=0\n"
   ]
  },
  {
   "cell_type": "code",
   "execution_count": null,
   "metadata": {},
   "outputs": [],
   "source": []
  },
  {
   "cell_type": "code",
   "execution_count": null,
   "metadata": {},
   "outputs": [],
   "source": []
  },
  {
   "cell_type": "code",
   "execution_count": null,
   "metadata": {},
   "outputs": [],
   "source": [
    "# #### to predict load the new model along with the weights\n",
    "# from keras.models import load_model\n",
    "# model = load_model('ner_kannada_safe_final.h5')"
   ]
  },
  {
   "cell_type": "code",
   "execution_count": null,
   "metadata": {},
   "outputs": [],
   "source": []
  },
  {
   "cell_type": "code",
   "execution_count": null,
   "metadata": {},
   "outputs": [],
   "source": [
    "# x_test\n",
    "# y_test\n",
    "pre_x_test_int=[]\n",
    "for i in pre_x_test:\n",
    "#     print(i)\n",
    "    l=[]\n",
    "    for j in i:\n",
    "        if(j in word_index_sent):\n",
    "            l.append(word_index_sent[j])\n",
    "        else:\n",
    "            l.append(word_index_sent[\"<UNK_WORD>\"])\n",
    "    pre_x_test_int.append(l)\n",
    "padded_x_test=pad_sequences(pre_x_test_int,maxlen=max_len,padding=\"post\")\n"
   ]
  },
  {
   "cell_type": "code",
   "execution_count": null,
   "metadata": {},
   "outputs": [],
   "source": [
    "for i in padded_x_test:\n",
    "    if(len(i)!=max_len):\n",
    "        print(i)\n",
    "# padded_x_test=np.array(padded_x_test)"
   ]
  },
  {
   "cell_type": "code",
   "execution_count": null,
   "metadata": {},
   "outputs": [],
   "source": [
    "ans=model.predict([padded_x_test,padded_x_test,padded_x_test])"
   ]
  },
  {
   "cell_type": "code",
   "execution_count": null,
   "metadata": {},
   "outputs": [],
   "source": []
  },
  {
   "cell_type": "code",
   "execution_count": null,
   "metadata": {},
   "outputs": [],
   "source": [
    "my_ans=[]\n",
    "for i in range(len(ans)):\n",
    "#     print(len(ans[i]))\n",
    "#     print(len(pre_x_test[i]))\n",
    "    l=[]\n",
    "    for j in range(len(pre_x_test[i])):\n",
    "        if(j<len(ans[i])):\n",
    "#             print(np.argmax(ans[i][j]),end=\"_\")\n",
    "            l.append(word_index_rev_tags[np.argmax(ans[i][j])+1])\n",
    "#             printprint(len(pre_x_test))\n",
    "# print(len(pre_y_test))\n",
    "# print(len(my_ans))(word_index_rev_tags[np.argmax(ans[i][j])+1])\n",
    "        else:\n",
    "            l.append(\"other\")\n",
    "#             print(0,end=\"_\")\n",
    "#     print(l)\n",
    "    my_ans.append(l)"
   ]
  },
  {
   "cell_type": "code",
   "execution_count": null,
   "metadata": {},
   "outputs": [],
   "source": []
  },
  {
   "cell_type": "code",
   "execution_count": null,
   "metadata": {},
   "outputs": [],
   "source": [
    "correct=0\n",
    "incorrect=0\n",
    "for i in range(len(my_ans)):\n",
    "#     print(pre_x_test[i])\n",
    "#     print(pre_y_test[i])\n",
    "#     print(my_ans[i])\n",
    "    for j,k in zip(my_ans[i],pre_y_test[i]):\n",
    "        if(j==k):\n",
    "            correct+=1\n",
    "        else:\n",
    "            incorrect+=1\n",
    "#     print(\"-----------------------------------------------------------------\")\n",
    "print(\"accuracy=\",(correct)/(correct+incorrect))"
   ]
  },
  {
   "cell_type": "code",
   "execution_count": null,
   "metadata": {},
   "outputs": [],
   "source": [
    "confusion_matrix=np.zeros(shape=(len(word_index_rev_tags),len(word_index_rev_tags)),dtype=\"int32\")\n",
    "for i,j in zip(my_ans,pre_y_test):\n",
    "#     print(i)\n",
    "#     print(j)\n",
    "#     print(\"----------------\")\n",
    "    for ii,jj in zip(i,j):\n",
    "        x=word_index_tags[ii]\n",
    "        y=word_index_tags[jj]\n",
    "#         print(x,y)\n",
    "        confusion_matrix[x-1][y-1]+=1\n",
    "#         for i in confusion_matrix:\n",
    "#             print(i)\n",
    "#         print(\"-------------------\")\n",
    "print(confusion_matrix)"
   ]
  },
  {
   "cell_type": "code",
   "execution_count": null,
   "metadata": {},
   "outputs": [],
   "source": [
    "for i in range(len(word_index_rev_tags)):\n",
    "    print(word_index_rev_tags[i+1])\n",
    "    row_sum=0\n",
    "    col_sum=0\n",
    "    for j in range(len(word_index_rev_tags)):\n",
    "        row_sum+=confusion_matrix[i][j]\n",
    "        col_sum+=confusion_matrix[j][i]\n",
    "    p=confusion_matrix[i][i]/row_sum\n",
    "    r=confusion_matrix[i][i]/col_sum\n",
    "    f1=(2*p*r)/(p+r)\n",
    "    print(\"precision=\",p)\n",
    "    print(\"recall=\",r)\n",
    "    print(\"f1 score=\",f1)\n",
    "    print('----------------------')"
   ]
  },
  {
   "cell_type": "code",
   "execution_count": null,
   "metadata": {},
   "outputs": [],
   "source": [
    "c_other=0\n",
    "i_other=0\n",
    "c_non=0\n",
    "i_non=0\n",
    "for i,j in zip(pre_y_test,my_ans):\n",
    "#     print(i,j)\n",
    "    for ii,jj in zip(i,j):\n",
    "#         print(x,y)\n",
    "        x=ii\n",
    "        y=jj\n",
    "        if(x==y):\n",
    "            if(x==\"other\"):\n",
    "                c_other+=1\n",
    "            else:\n",
    "                c_non+=1\n",
    "        elif(x!=y):\n",
    "            if(x==\"other\"):\n",
    "                i_other+=1\n",
    "            else:\n",
    "                i_non+=1\n",
    "#other accuracy\n",
    "print(\"other accuracy\")\n",
    "print(\"correct\",c_other)\n",
    "print(\"incorrect\",i_other)\n",
    "print(c_other/(c_other+i_other))\n",
    "\n",
    "\n",
    "# In[ ]:\n",
    "\n",
    "\n",
    "print(\"non other accuracy\")\n",
    "print(\"correct\",c_non)\n",
    "print(\"incorrect\",i_non)\n",
    "print(c_non/(c_non+i_non))"
   ]
  },
  {
   "cell_type": "code",
   "execution_count": null,
   "metadata": {},
   "outputs": [],
   "source": []
  },
  {
   "cell_type": "code",
   "execution_count": null,
   "metadata": {},
   "outputs": [],
   "source": []
  },
  {
   "cell_type": "code",
   "execution_count": null,
   "metadata": {},
   "outputs": [],
   "source": []
  },
  {
   "cell_type": "code",
   "execution_count": null,
   "metadata": {},
   "outputs": [],
   "source": []
  },
  {
   "cell_type": "code",
   "execution_count": null,
   "metadata": {},
   "outputs": [],
   "source": []
  },
  {
   "cell_type": "code",
   "execution_count": null,
   "metadata": {},
   "outputs": [],
   "source": []
  },
  {
   "cell_type": "code",
   "execution_count": null,
   "metadata": {},
   "outputs": [],
   "source": [
    "#################final testing########################\n",
    "data_div=1\n",
    "pre_x_test=[]\n",
    "with codecs.open(\"v1_test1.hi\",\"r\",encoding=\"utf-8\") as f:\n",
    "    l1=[]\n",
    "    for i in f:\n",
    "        i=i.strip()\n",
    "        if(i==\"newline\"):\n",
    "            pre_x_test.append(l1)\n",
    "#             print(len(pre_x_test))\n",
    "            l1=[]\n",
    "        else:\n",
    "            l1.append(i)"
   ]
  },
  {
   "cell_type": "code",
   "execution_count": null,
   "metadata": {},
   "outputs": [],
   "source": [
    "# x_test\n",
    "# y_test\n",
    "pre_x_test_int=[]\n",
    "for i in pre_x_test:\n",
    "#     print(i)\n",
    "    l=[]\n",
    "    for j in i:\n",
    "        if(j in word_index_sent):\n",
    "            l.append(word_index_sent[j])\n",
    "        else:\n",
    "            l.append(word_index_sent[\"<UNK_WORD>\"])\n",
    "    pre_x_test_int.append(l)\n",
    "padded_x_test=pad_sequences(pre_x_test_int,maxlen=max_len,padding=\"post\")\n"
   ]
  },
  {
   "cell_type": "code",
   "execution_count": null,
   "metadata": {},
   "outputs": [],
   "source": [
    "ans=model.predict([padded_x_test,padded_x_test,padded_x_test])"
   ]
  },
  {
   "cell_type": "code",
   "execution_count": null,
   "metadata": {},
   "outputs": [],
   "source": [
    "my_ans=[]\n",
    "for i in range(len(ans)):\n",
    "#     print(len(ans[i]))\n",
    "#     print(len(pre_x_test[i]))\n",
    "    l=[]\n",
    "    for j in range(len(pre_x_test[i])):\n",
    "        if(j<len(ans[i])):\n",
    "#             print(np.argmax(ans[i][j]),end=\"_\")\n",
    "            l.append(word_index_rev_tags[np.argmax(ans[i][j])+1])\n",
    "#             printprint(len(pre_x_test))\n",
    "# print(len(pre_y_test))\n",
    "# print(len(my_ans))(word_index_rev_tags[np.argmax(ans[i][j])+1])\n",
    "        else:\n",
    "            l.append(\"other\")\n",
    "#             print(0,end=\"_\")\n",
    "#     print(l)\n",
    "    my_ans.append(l)"
   ]
  },
  {
   "cell_type": "code",
   "execution_count": null,
   "metadata": {},
   "outputs": [],
   "source": []
  },
  {
   "cell_type": "code",
   "execution_count": null,
   "metadata": {},
   "outputs": [],
   "source": [
    "fl=open(\"q1_final.hi\",\"w\")\n",
    "for i in range(len(pre_x_test)):\n",
    "#     print(pre_x_test[i])\n",
    "#     print(my_ans[i])\n",
    "    for j in range(len(pre_x_test[i])):\n",
    "        fl.write(my_ans[i][j]+\"\\n\")\n",
    "    fl.write(\"newline\\n\")\n",
    "#     print(\"---------------------\")\n",
    "fl.close()"
   ]
  }
 ],
 "metadata": {
  "kernelspec": {
   "display_name": "Python 3",
   "language": "python",
   "name": "python3"
  },
  "language_info": {
   "codemirror_mode": {
    "name": "ipython",
    "version": 3
   },
   "file_extension": ".py",
   "mimetype": "text/x-python",
   "name": "python",
   "nbconvert_exporter": "python",
   "pygments_lexer": "ipython3",
   "version": "3.5.2"
  }
 },
 "nbformat": 4,
 "nbformat_minor": 2
}
